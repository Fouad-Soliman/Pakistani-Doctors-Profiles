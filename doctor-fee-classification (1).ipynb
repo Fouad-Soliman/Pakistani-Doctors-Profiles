{
 "cells": [
  {
   "cell_type": "code",
   "execution_count": 1,
   "metadata": {
    "_cell_guid": "b1076dfc-b9ad-4769-8c92-a6c4dae69d19",
    "_uuid": "8f2839f25d086af736a60e9eeb907d3b93b6e0e5",
    "execution": {
     "iopub.execute_input": "2024-05-10T21:41:44.804958Z",
     "iopub.status.busy": "2024-05-10T21:41:44.804520Z",
     "iopub.status.idle": "2024-05-10T21:41:46.655546Z",
     "shell.execute_reply": "2024-05-10T21:41:46.653725Z",
     "shell.execute_reply.started": "2024-05-10T21:41:44.804924Z"
    },
    "trusted": true
   },
   "outputs": [],
   "source": [
    "\n",
    "import numpy as np # linear algebra\n",
    "import pandas as pd # data processing, CSV file I/O (e.g. pd.read_csv)\n",
    "import matplotlib.pyplot as plt\n",
    "import seaborn as sns\n",
    "from sklearn.model_selection import train_test_split\n",
    "from sklearn.compose import ColumnTransformer\n",
    "from sklearn.pipeline import Pipeline\n",
    "from sklearn.preprocessing import Normalizer,OneHotEncoder,LabelEncoder,StandardScaler\n",
    "from sklearn.ensemble import RandomForestClassifier,AdaBoostClassifier\n",
    "from sklearn.tree import DecisionTreeClassifier\n",
    "from sklearn.svm import SVC\n",
    "from sklearn.impute import SimpleImputer\n",
    "from sklearn.metrics import f1_score,classification_report\n",
    "from sklearn.preprocessing import FunctionTransformer\n",
    "from sklearn.compose import ColumnTransformer\n",
    "from imblearn.over_sampling import SMOTENC\n",
    "\n",
    "\n",
    "\n",
    "import os"
   ]
  },
  {
   "cell_type": "code",
   "execution_count": 3,
   "metadata": {
    "execution": {
     "iopub.execute_input": "2024-05-10T21:41:47.463544Z",
     "iopub.status.busy": "2024-05-10T21:41:47.462867Z",
     "iopub.status.idle": "2024-05-10T21:41:47.522867Z",
     "shell.execute_reply": "2024-05-10T21:41:47.521411Z",
     "shell.execute_reply.started": "2024-05-10T21:41:47.463506Z"
    },
    "trusted": true
   },
   "outputs": [],
   "source": [
    "df=pd.read_csv('DoctorFeePrediction_Milestone2.csv')"
   ]
  },
  {
   "cell_type": "code",
   "execution_count": 4,
   "metadata": {
    "execution": {
     "iopub.execute_input": "2024-05-10T21:41:47.763148Z",
     "iopub.status.busy": "2024-05-10T21:41:47.762703Z",
     "iopub.status.idle": "2024-05-10T21:41:47.794636Z",
     "shell.execute_reply": "2024-05-10T21:41:47.793485Z",
     "shell.execute_reply.started": "2024-05-10T21:41:47.763117Z"
    },
    "trusted": true
   },
   "outputs": [
    {
     "data": {
      "text/html": [
       "<div>\n",
       "<style scoped>\n",
       "    .dataframe tbody tr th:only-of-type {\n",
       "        vertical-align: middle;\n",
       "    }\n",
       "\n",
       "    .dataframe tbody tr th {\n",
       "        vertical-align: top;\n",
       "    }\n",
       "\n",
       "    .dataframe thead th {\n",
       "        text-align: right;\n",
       "    }\n",
       "</style>\n",
       "<table border=\"1\" class=\"dataframe\">\n",
       "  <thead>\n",
       "    <tr style=\"text-align: right;\">\n",
       "      <th></th>\n",
       "      <th>Doctor Name</th>\n",
       "      <th>City</th>\n",
       "      <th>Specialization</th>\n",
       "      <th>Doctor Qualification</th>\n",
       "      <th>Experience(Years)</th>\n",
       "      <th>Total_Reviews</th>\n",
       "      <th>Patient Satisfaction Rate(%age)</th>\n",
       "      <th>Avg Time to Patients(mins)</th>\n",
       "      <th>Wait Time(mins)</th>\n",
       "      <th>Hospital Address</th>\n",
       "      <th>Doctors Link</th>\n",
       "      <th>Fee Category</th>\n",
       "    </tr>\n",
       "  </thead>\n",
       "  <tbody>\n",
       "    <tr>\n",
       "      <th>0</th>\n",
       "      <td>Dr. Umair Hafeez</td>\n",
       "      <td>GUJRANWALA</td>\n",
       "      <td>Ent Specialist</td>\n",
       "      <td>MBBS , FCPS ( Otorhinolaryngologic ENT )</td>\n",
       "      <td>6.0</td>\n",
       "      <td>11</td>\n",
       "      <td>100</td>\n",
       "      <td>19</td>\n",
       "      <td>6</td>\n",
       "      <td>Central Hospital, Jinnah Colony, Gujranwala</td>\n",
       "      <td>https://www.marham.pk/doctors/gujranwala/ent-s...</td>\n",
       "      <td>Expensive</td>\n",
       "    </tr>\n",
       "    <tr>\n",
       "      <th>1</th>\n",
       "      <td>Dr. Haris Shakeel</td>\n",
       "      <td>RAJAN-PUR</td>\n",
       "      <td>General Physician</td>\n",
       "      <td>MBBS</td>\n",
       "      <td>1.0</td>\n",
       "      <td>0</td>\n",
       "      <td>94</td>\n",
       "      <td>14</td>\n",
       "      <td>11</td>\n",
       "      <td>No Address Available</td>\n",
       "      <td>No Link Available</td>\n",
       "      <td>Cheap</td>\n",
       "    </tr>\n",
       "    <tr>\n",
       "      <th>2</th>\n",
       "      <td>Dr. Iqra Rehman</td>\n",
       "      <td>MIRPUR-KHAS</td>\n",
       "      <td>General Physician</td>\n",
       "      <td>MBBS, RMP, CFP (USA), Certified in Covid 19 +</td>\n",
       "      <td>6.0</td>\n",
       "      <td>9</td>\n",
       "      <td>100</td>\n",
       "      <td>10</td>\n",
       "      <td>0</td>\n",
       "      <td>Rehman Clinic, tandoadam naka, Mirpur Khas</td>\n",
       "      <td>https://www.marham.pk/doctors/mirpur-khas/gene...</td>\n",
       "      <td>Medium-Priced</td>\n",
       "    </tr>\n",
       "    <tr>\n",
       "      <th>3</th>\n",
       "      <td>Dr. Erum Memon</td>\n",
       "      <td>HYDERABAD</td>\n",
       "      <td>Gynecologist</td>\n",
       "      <td>MBBS, FCPS (Gynae &amp;amp; Obstetrics)</td>\n",
       "      <td>11.0</td>\n",
       "      <td>71</td>\n",
       "      <td>96</td>\n",
       "      <td>18</td>\n",
       "      <td>10</td>\n",
       "      <td>Mehmood Hospital, Qasimabad, Hyderabad</td>\n",
       "      <td>https://www.marham.pk/doctors/hyderabad/gyneco...</td>\n",
       "      <td>Cheap</td>\n",
       "    </tr>\n",
       "    <tr>\n",
       "      <th>4</th>\n",
       "      <td>Dr. Aisha Ahmad</td>\n",
       "      <td>LAHORE</td>\n",
       "      <td>Dermatologist</td>\n",
       "      <td>MBBS, FCPS (Dermatology), Certified (Aesthetic...</td>\n",
       "      <td>12.0</td>\n",
       "      <td>199</td>\n",
       "      <td>100</td>\n",
       "      <td>16</td>\n",
       "      <td>2</td>\n",
       "      <td>Skinnovation, Johar Town, Lahore</td>\n",
       "      <td>https://www.marham.pk/doctors/lahore/dermatolo...</td>\n",
       "      <td>Medium-Priced</td>\n",
       "    </tr>\n",
       "  </tbody>\n",
       "</table>\n",
       "</div>"
      ],
      "text/plain": [
       "         Doctor Name         City     Specialization  \\\n",
       "0   Dr. Umair Hafeez   GUJRANWALA     Ent Specialist   \n",
       "1  Dr. Haris Shakeel    RAJAN-PUR  General Physician   \n",
       "2    Dr. Iqra Rehman  MIRPUR-KHAS  General Physician   \n",
       "3     Dr. Erum Memon    HYDERABAD       Gynecologist   \n",
       "4    Dr. Aisha Ahmad       LAHORE      Dermatologist   \n",
       "\n",
       "                                Doctor Qualification  Experience(Years)  \\\n",
       "0          MBBS , FCPS ( Otorhinolaryngologic ENT )                 6.0   \n",
       "1                                               MBBS                1.0   \n",
       "2      MBBS, RMP, CFP (USA), Certified in Covid 19 +                6.0   \n",
       "3                MBBS, FCPS (Gynae &amp; Obstetrics)               11.0   \n",
       "4  MBBS, FCPS (Dermatology), Certified (Aesthetic...               12.0   \n",
       "\n",
       "   Total_Reviews  Patient Satisfaction Rate(%age)  Avg Time to Patients(mins)  \\\n",
       "0             11                              100                          19   \n",
       "1              0                               94                          14   \n",
       "2              9                              100                          10   \n",
       "3             71                               96                          18   \n",
       "4            199                              100                          16   \n",
       "\n",
       "   Wait Time(mins)                             Hospital Address  \\\n",
       "0                6  Central Hospital, Jinnah Colony, Gujranwala   \n",
       "1               11                         No Address Available   \n",
       "2                0   Rehman Clinic, tandoadam naka, Mirpur Khas   \n",
       "3               10       Mehmood Hospital, Qasimabad, Hyderabad   \n",
       "4                2             Skinnovation, Johar Town, Lahore   \n",
       "\n",
       "                                        Doctors Link   Fee Category  \n",
       "0  https://www.marham.pk/doctors/gujranwala/ent-s...      Expensive  \n",
       "1                                  No Link Available          Cheap  \n",
       "2  https://www.marham.pk/doctors/mirpur-khas/gene...  Medium-Priced  \n",
       "3  https://www.marham.pk/doctors/hyderabad/gyneco...          Cheap  \n",
       "4  https://www.marham.pk/doctors/lahore/dermatolo...  Medium-Priced  "
      ]
     },
     "execution_count": 4,
     "metadata": {},
     "output_type": "execute_result"
    }
   ],
   "source": [
    "df.head()\n",
    "\n"
   ]
  },
  {
   "cell_type": "code",
   "execution_count": 5,
   "metadata": {
    "execution": {
     "iopub.execute_input": "2024-05-10T21:41:48.002695Z",
     "iopub.status.busy": "2024-05-10T21:41:48.002245Z",
     "iopub.status.idle": "2024-05-10T21:41:48.034177Z",
     "shell.execute_reply": "2024-05-10T21:41:48.032256Z",
     "shell.execute_reply.started": "2024-05-10T21:41:48.002649Z"
    },
    "trusted": true
   },
   "outputs": [
    {
     "name": "stdout",
     "output_type": "stream",
     "text": [
      "<class 'pandas.core.frame.DataFrame'>\n",
      "RangeIndex: 2386 entries, 0 to 2385\n",
      "Data columns (total 12 columns):\n",
      " #   Column                           Non-Null Count  Dtype  \n",
      "---  ------                           --------------  -----  \n",
      " 0   Doctor Name                      2386 non-null   object \n",
      " 1   City                             2386 non-null   object \n",
      " 2   Specialization                   2386 non-null   object \n",
      " 3   Doctor Qualification             2386 non-null   object \n",
      " 4   Experience(Years)                2386 non-null   float64\n",
      " 5   Total_Reviews                    2386 non-null   int64  \n",
      " 6   Patient Satisfaction Rate(%age)  2386 non-null   int64  \n",
      " 7   Avg Time to Patients(mins)       2386 non-null   int64  \n",
      " 8   Wait Time(mins)                  2386 non-null   int64  \n",
      " 9   Hospital Address                 2386 non-null   object \n",
      " 10  Doctors Link                     2386 non-null   object \n",
      " 11  Fee Category                     2386 non-null   object \n",
      "dtypes: float64(1), int64(4), object(7)\n",
      "memory usage: 223.8+ KB\n"
     ]
    }
   ],
   "source": [
    "df.info()"
   ]
  },
  {
   "cell_type": "code",
   "execution_count": 6,
   "metadata": {
    "execution": {
     "iopub.execute_input": "2024-05-10T21:41:48.110600Z",
     "iopub.status.busy": "2024-05-10T21:41:48.110154Z",
     "iopub.status.idle": "2024-05-10T21:41:48.149212Z",
     "shell.execute_reply": "2024-05-10T21:41:48.148069Z",
     "shell.execute_reply.started": "2024-05-10T21:41:48.110569Z"
    },
    "trusted": true
   },
   "outputs": [
    {
     "data": {
      "text/html": [
       "<div>\n",
       "<style scoped>\n",
       "    .dataframe tbody tr th:only-of-type {\n",
       "        vertical-align: middle;\n",
       "    }\n",
       "\n",
       "    .dataframe tbody tr th {\n",
       "        vertical-align: top;\n",
       "    }\n",
       "\n",
       "    .dataframe thead th {\n",
       "        text-align: right;\n",
       "    }\n",
       "</style>\n",
       "<table border=\"1\" class=\"dataframe\">\n",
       "  <thead>\n",
       "    <tr style=\"text-align: right;\">\n",
       "      <th></th>\n",
       "      <th>count</th>\n",
       "      <th>mean</th>\n",
       "      <th>std</th>\n",
       "      <th>min</th>\n",
       "      <th>25%</th>\n",
       "      <th>50%</th>\n",
       "      <th>75%</th>\n",
       "      <th>max</th>\n",
       "    </tr>\n",
       "  </thead>\n",
       "  <tbody>\n",
       "    <tr>\n",
       "      <th>Experience(Years)</th>\n",
       "      <td>2386.0</td>\n",
       "      <td>11.844719</td>\n",
       "      <td>8.784449</td>\n",
       "      <td>1.0</td>\n",
       "      <td>6.0</td>\n",
       "      <td>10.0</td>\n",
       "      <td>14.0</td>\n",
       "      <td>53.0</td>\n",
       "    </tr>\n",
       "    <tr>\n",
       "      <th>Total_Reviews</th>\n",
       "      <td>2386.0</td>\n",
       "      <td>92.473177</td>\n",
       "      <td>282.162526</td>\n",
       "      <td>0.0</td>\n",
       "      <td>0.0</td>\n",
       "      <td>8.0</td>\n",
       "      <td>54.0</td>\n",
       "      <td>5147.0</td>\n",
       "    </tr>\n",
       "    <tr>\n",
       "      <th>Patient Satisfaction Rate(%age)</th>\n",
       "      <td>2386.0</td>\n",
       "      <td>96.657586</td>\n",
       "      <td>4.962300</td>\n",
       "      <td>33.0</td>\n",
       "      <td>94.0</td>\n",
       "      <td>98.0</td>\n",
       "      <td>100.0</td>\n",
       "      <td>100.0</td>\n",
       "    </tr>\n",
       "    <tr>\n",
       "      <th>Avg Time to Patients(mins)</th>\n",
       "      <td>2386.0</td>\n",
       "      <td>14.092205</td>\n",
       "      <td>2.722198</td>\n",
       "      <td>3.0</td>\n",
       "      <td>14.0</td>\n",
       "      <td>14.0</td>\n",
       "      <td>15.0</td>\n",
       "      <td>50.0</td>\n",
       "    </tr>\n",
       "    <tr>\n",
       "      <th>Wait Time(mins)</th>\n",
       "      <td>2386.0</td>\n",
       "      <td>11.264459</td>\n",
       "      <td>5.636885</td>\n",
       "      <td>0.0</td>\n",
       "      <td>10.0</td>\n",
       "      <td>11.0</td>\n",
       "      <td>11.0</td>\n",
       "      <td>82.0</td>\n",
       "    </tr>\n",
       "  </tbody>\n",
       "</table>\n",
       "</div>"
      ],
      "text/plain": [
       "                                  count       mean         std   min   25%  \\\n",
       "Experience(Years)                2386.0  11.844719    8.784449   1.0   6.0   \n",
       "Total_Reviews                    2386.0  92.473177  282.162526   0.0   0.0   \n",
       "Patient Satisfaction Rate(%age)  2386.0  96.657586    4.962300  33.0  94.0   \n",
       "Avg Time to Patients(mins)       2386.0  14.092205    2.722198   3.0  14.0   \n",
       "Wait Time(mins)                  2386.0  11.264459    5.636885   0.0  10.0   \n",
       "\n",
       "                                  50%    75%     max  \n",
       "Experience(Years)                10.0   14.0    53.0  \n",
       "Total_Reviews                     8.0   54.0  5147.0  \n",
       "Patient Satisfaction Rate(%age)  98.0  100.0   100.0  \n",
       "Avg Time to Patients(mins)       14.0   15.0    50.0  \n",
       "Wait Time(mins)                  11.0   11.0    82.0  "
      ]
     },
     "execution_count": 6,
     "metadata": {},
     "output_type": "execute_result"
    }
   ],
   "source": [
    "df.describe().T"
   ]
  },
  {
   "cell_type": "code",
   "execution_count": 7,
   "metadata": {
    "execution": {
     "iopub.execute_input": "2024-05-10T21:41:48.274774Z",
     "iopub.status.busy": "2024-05-10T21:41:48.274336Z",
     "iopub.status.idle": "2024-05-10T21:41:48.283958Z",
     "shell.execute_reply": "2024-05-10T21:41:48.282573Z",
     "shell.execute_reply.started": "2024-05-10T21:41:48.274741Z"
    },
    "trusted": true
   },
   "outputs": [
    {
     "data": {
      "text/plain": [
       "Medium-Priced    1042\n",
       "Cheap             864\n",
       "Expensive         480\n",
       "Name: Fee Category, dtype: int64"
      ]
     },
     "execution_count": 7,
     "metadata": {},
     "output_type": "execute_result"
    }
   ],
   "source": [
    "df['Fee Category'].value_counts()"
   ]
  },
  {
   "cell_type": "code",
   "execution_count": 8,
   "metadata": {
    "execution": {
     "iopub.execute_input": "2024-05-10T21:41:49.284702Z",
     "iopub.status.busy": "2024-05-10T21:41:49.284222Z",
     "iopub.status.idle": "2024-05-10T21:41:49.297223Z",
     "shell.execute_reply": "2024-05-10T21:41:49.295506Z",
     "shell.execute_reply.started": "2024-05-10T21:41:49.284645Z"
    },
    "trusted": true
   },
   "outputs": [],
   "source": [
    "df.Specialization=df.Specialization.str.replace(\" \",'').str.lower().str.strip()"
   ]
  },
  {
   "cell_type": "code",
   "execution_count": 9,
   "metadata": {
    "execution": {
     "iopub.execute_input": "2024-05-10T21:41:49.479553Z",
     "iopub.status.busy": "2024-05-10T21:41:49.478539Z",
     "iopub.status.idle": "2024-05-10T21:41:49.490253Z",
     "shell.execute_reply": "2024-05-10T21:41:49.488797Z",
     "shell.execute_reply.started": "2024-05-10T21:41:49.479513Z"
    },
    "trusted": true
   },
   "outputs": [],
   "source": [
    "df.City=df.City.str.replace(\" \",'').str.lower().str.strip()"
   ]
  },
  {
   "cell_type": "code",
   "execution_count": 10,
   "metadata": {
    "execution": {
     "iopub.execute_input": "2024-05-10T21:41:49.644511Z",
     "iopub.status.busy": "2024-05-10T21:41:49.643493Z",
     "iopub.status.idle": "2024-05-10T21:41:49.663484Z",
     "shell.execute_reply": "2024-05-10T21:41:49.662552Z",
     "shell.execute_reply.started": "2024-05-10T21:41:49.644455Z"
    },
    "trusted": true
   },
   "outputs": [
    {
     "name": "stderr",
     "output_type": "stream",
     "text": [
      "C:\\Users\\lenovo\\AppData\\Local\\Temp\\ipykernel_64208\\3702064878.py:1: FutureWarning: The default value of regex will change from True to False in a future version. In addition, single character regular expressions will *not* be treated as literal strings when regex=True.\n",
      "  df[\"Doctor Qualification\"]=df[\"Doctor Qualification\"].str.lower().str.replace(\"*\",\"\").str.replace(']','}').str.replace('[','{').str.replace('(','{').str.replace(')',\"}\").str.strip().str.split(\",\")\n"
     ]
    }
   ],
   "source": [
    "df[\"Doctor Qualification\"]=df[\"Doctor Qualification\"].str.lower().str.replace(\"*\",\"\").str.replace(']','}').str.replace('[','{').str.replace('(','{').str.replace(')',\"}\").str.strip().str.split(\",\")"
   ]
  },
  {
   "cell_type": "code",
   "execution_count": 11,
   "metadata": {
    "execution": {
     "iopub.execute_input": "2024-05-10T21:41:49.825340Z",
     "iopub.status.busy": "2024-05-10T21:41:49.824893Z",
     "iopub.status.idle": "2024-05-10T21:41:49.836460Z",
     "shell.execute_reply": "2024-05-10T21:41:49.834813Z",
     "shell.execute_reply.started": "2024-05-10T21:41:49.825308Z"
    },
    "trusted": true
   },
   "outputs": [],
   "source": [
    "df['Doctor Qualification']=df['Doctor Qualification'].apply(lambda x:','.join(x))\n",
    "df['Doctor Qualification']=df['Doctor Qualification'].str.replace(\" \",'')"
   ]
  },
  {
   "cell_type": "markdown",
   "metadata": {},
   "source": [
    "## Getting Doctor title"
   ]
  },
  {
   "cell_type": "code",
   "execution_count": 12,
   "metadata": {
    "execution": {
     "iopub.execute_input": "2024-05-10T21:41:50.876662Z",
     "iopub.status.busy": "2024-05-10T21:41:50.876266Z",
     "iopub.status.idle": "2024-05-10T21:41:50.894395Z",
     "shell.execute_reply": "2024-05-10T21:41:50.893043Z",
     "shell.execute_reply.started": "2024-05-10T21:41:50.876633Z"
    },
    "trusted": true
   },
   "outputs": [
    {
     "data": {
      "text/plain": [
       "Dr                      1908\n",
       "Asst                     249\n",
       "Prof                     149\n",
       "Assoc                     79\n",
       "Mohammad zafar iqbal       1\n",
       "Name: Title, dtype: int64"
      ]
     },
     "execution_count": 12,
     "metadata": {},
     "output_type": "execute_result"
    }
   ],
   "source": [
    "df[\"Title\"]=df[\"Doctor Name\"].str.strip().str.split(\".\").apply(lambda x : x[0]).str.capitalize()\n",
    "df.Title.value_counts()"
   ]
  },
  {
   "cell_type": "code",
   "execution_count": 13,
   "metadata": {
    "execution": {
     "iopub.execute_input": "2024-05-10T21:41:51.118056Z",
     "iopub.status.busy": "2024-05-10T21:41:51.117571Z",
     "iopub.status.idle": "2024-05-10T21:41:51.134505Z",
     "shell.execute_reply": "2024-05-10T21:41:51.133112Z",
     "shell.execute_reply.started": "2024-05-10T21:41:51.118022Z"
    },
    "trusted": true
   },
   "outputs": [
    {
     "data": {
      "text/plain": [
       "0.0    1908\n",
       "1.0     249\n",
       "3.0     149\n",
       "2.0      79\n",
       "NaN       1\n",
       "Name: Title, dtype: int64"
      ]
     },
     "execution_count": 13,
     "metadata": {},
     "output_type": "execute_result"
    }
   ],
   "source": [
    "## Later for encoding\n",
    "doctors_rank={\n",
    "    \"Prof\":3,\n",
    "    \"Assoc\":2,\n",
    "    \"Asst\":1,\n",
    "    \"Dr\":0\n",
    "}\n",
    "\n",
    "df[\"Title\"]=df[\"Title\"].map(doctors_rank)\n",
    "df['Title'].value_counts(dropna=False)\n"
   ]
  },
  {
   "cell_type": "code",
   "execution_count": 14,
   "metadata": {
    "execution": {
     "iopub.execute_input": "2024-05-10T21:41:51.322841Z",
     "iopub.status.busy": "2024-05-10T21:41:51.322336Z",
     "iopub.status.idle": "2024-05-10T21:41:51.335141Z",
     "shell.execute_reply": "2024-05-10T21:41:51.333741Z",
     "shell.execute_reply.started": "2024-05-10T21:41:51.322805Z"
    },
    "trusted": true
   },
   "outputs": [
    {
     "data": {
      "text/plain": [
       "0.0    1909\n",
       "1.0     249\n",
       "3.0     149\n",
       "2.0      79\n",
       "Name: Title, dtype: int64"
      ]
     },
     "execution_count": 14,
     "metadata": {},
     "output_type": "execute_result"
    }
   ],
   "source": [
    "df.Title.fillna(0,inplace=True)\n",
    "df['Title'].value_counts(dropna=False)"
   ]
  },
  {
   "cell_type": "markdown",
   "metadata": {},
   "source": [
    "## Fee Category"
   ]
  },
  {
   "cell_type": "code",
   "execution_count": 15,
   "metadata": {
    "execution": {
     "iopub.execute_input": "2024-05-10T21:41:51.676236Z",
     "iopub.status.busy": "2024-05-10T21:41:51.675603Z",
     "iopub.status.idle": "2024-05-10T21:41:51.691303Z",
     "shell.execute_reply": "2024-05-10T21:41:51.689965Z",
     "shell.execute_reply.started": "2024-05-10T21:41:51.676200Z"
    },
    "trusted": true
   },
   "outputs": [
    {
     "data": {
      "text/plain": [
       "Medium-Priced    1042\n",
       "Cheap             864\n",
       "Expensive         480\n",
       "Name: Fee Category, dtype: int64"
      ]
     },
     "execution_count": 15,
     "metadata": {},
     "output_type": "execute_result"
    }
   ],
   "source": [
    "df['Fee Category'].value_counts(dropna=False)"
   ]
  },
  {
   "cell_type": "code",
   "execution_count": 16,
   "metadata": {
    "execution": {
     "iopub.execute_input": "2024-05-10T21:41:52.645027Z",
     "iopub.status.busy": "2024-05-10T21:41:52.644585Z",
     "iopub.status.idle": "2024-05-10T21:41:52.659775Z",
     "shell.execute_reply": "2024-05-10T21:41:52.658484Z",
     "shell.execute_reply.started": "2024-05-10T21:41:52.644997Z"
    },
    "trusted": true
   },
   "outputs": [
    {
     "data": {
      "text/plain": [
       "1    1042\n",
       "0     864\n",
       "2     480\n",
       "Name: Fee Category, dtype: int64"
      ]
     },
     "execution_count": 16,
     "metadata": {},
     "output_type": "execute_result"
    }
   ],
   "source": [
    "doctors_fee={\n",
    "    'Cheap':0,\n",
    "    'Medium-Priced':1,\n",
    "    'Expensive':2\n",
    "}\n",
    "df['Fee Category']=df['Fee Category'].map(doctors_fee)\n",
    "df['Fee Category'].value_counts(dropna=False)\n"
   ]
  },
  {
   "cell_type": "code",
   "execution_count": 17,
   "metadata": {
    "execution": {
     "iopub.execute_input": "2024-05-10T21:41:52.852734Z",
     "iopub.status.busy": "2024-05-10T21:41:52.852219Z",
     "iopub.status.idle": "2024-05-10T21:41:52.875352Z",
     "shell.execute_reply": "2024-05-10T21:41:52.873772Z",
     "shell.execute_reply.started": "2024-05-10T21:41:52.852663Z"
    },
    "trusted": true
   },
   "outputs": [
    {
     "data": {
      "text/html": [
       "<div>\n",
       "<style scoped>\n",
       "    .dataframe tbody tr th:only-of-type {\n",
       "        vertical-align: middle;\n",
       "    }\n",
       "\n",
       "    .dataframe tbody tr th {\n",
       "        vertical-align: top;\n",
       "    }\n",
       "\n",
       "    .dataframe thead th {\n",
       "        text-align: right;\n",
       "    }\n",
       "</style>\n",
       "<table border=\"1\" class=\"dataframe\">\n",
       "  <thead>\n",
       "    <tr style=\"text-align: right;\">\n",
       "      <th></th>\n",
       "      <th>Doctor Name</th>\n",
       "      <th>City</th>\n",
       "      <th>Specialization</th>\n",
       "      <th>Doctor Qualification</th>\n",
       "      <th>Experience(Years)</th>\n",
       "      <th>Total_Reviews</th>\n",
       "      <th>Patient Satisfaction Rate(%age)</th>\n",
       "      <th>Avg Time to Patients(mins)</th>\n",
       "      <th>Wait Time(mins)</th>\n",
       "      <th>Hospital Address</th>\n",
       "      <th>Doctors Link</th>\n",
       "      <th>Fee Category</th>\n",
       "      <th>Title</th>\n",
       "    </tr>\n",
       "  </thead>\n",
       "  <tbody>\n",
       "    <tr>\n",
       "      <th>0</th>\n",
       "      <td>Dr. Umair Hafeez</td>\n",
       "      <td>gujranwala</td>\n",
       "      <td>entspecialist</td>\n",
       "      <td>mbbs,fcps{otorhinolaryngologicent}</td>\n",
       "      <td>6.0</td>\n",
       "      <td>11</td>\n",
       "      <td>100</td>\n",
       "      <td>19</td>\n",
       "      <td>6</td>\n",
       "      <td>Central Hospital, Jinnah Colony, Gujranwala</td>\n",
       "      <td>https://www.marham.pk/doctors/gujranwala/ent-s...</td>\n",
       "      <td>2</td>\n",
       "      <td>0.0</td>\n",
       "    </tr>\n",
       "    <tr>\n",
       "      <th>1</th>\n",
       "      <td>Dr. Haris Shakeel</td>\n",
       "      <td>rajan-pur</td>\n",
       "      <td>generalphysician</td>\n",
       "      <td>mbbs</td>\n",
       "      <td>1.0</td>\n",
       "      <td>0</td>\n",
       "      <td>94</td>\n",
       "      <td>14</td>\n",
       "      <td>11</td>\n",
       "      <td>No Address Available</td>\n",
       "      <td>No Link Available</td>\n",
       "      <td>0</td>\n",
       "      <td>0.0</td>\n",
       "    </tr>\n",
       "    <tr>\n",
       "      <th>2</th>\n",
       "      <td>Dr. Iqra Rehman</td>\n",
       "      <td>mirpur-khas</td>\n",
       "      <td>generalphysician</td>\n",
       "      <td>mbbs,rmp,cfp{usa},certifiedincovid19+</td>\n",
       "      <td>6.0</td>\n",
       "      <td>9</td>\n",
       "      <td>100</td>\n",
       "      <td>10</td>\n",
       "      <td>0</td>\n",
       "      <td>Rehman Clinic, tandoadam naka, Mirpur Khas</td>\n",
       "      <td>https://www.marham.pk/doctors/mirpur-khas/gene...</td>\n",
       "      <td>1</td>\n",
       "      <td>0.0</td>\n",
       "    </tr>\n",
       "    <tr>\n",
       "      <th>3</th>\n",
       "      <td>Dr. Erum Memon</td>\n",
       "      <td>hyderabad</td>\n",
       "      <td>gynecologist</td>\n",
       "      <td>mbbs,fcps{gynae&amp;amp;obstetrics}</td>\n",
       "      <td>11.0</td>\n",
       "      <td>71</td>\n",
       "      <td>96</td>\n",
       "      <td>18</td>\n",
       "      <td>10</td>\n",
       "      <td>Mehmood Hospital, Qasimabad, Hyderabad</td>\n",
       "      <td>https://www.marham.pk/doctors/hyderabad/gyneco...</td>\n",
       "      <td>0</td>\n",
       "      <td>0.0</td>\n",
       "    </tr>\n",
       "    <tr>\n",
       "      <th>4</th>\n",
       "      <td>Dr. Aisha Ahmad</td>\n",
       "      <td>lahore</td>\n",
       "      <td>dermatologist</td>\n",
       "      <td>mbbs,fcps{dermatology},certified{aestheticmedi...</td>\n",
       "      <td>12.0</td>\n",
       "      <td>199</td>\n",
       "      <td>100</td>\n",
       "      <td>16</td>\n",
       "      <td>2</td>\n",
       "      <td>Skinnovation, Johar Town, Lahore</td>\n",
       "      <td>https://www.marham.pk/doctors/lahore/dermatolo...</td>\n",
       "      <td>1</td>\n",
       "      <td>0.0</td>\n",
       "    </tr>\n",
       "  </tbody>\n",
       "</table>\n",
       "</div>"
      ],
      "text/plain": [
       "         Doctor Name         City    Specialization  \\\n",
       "0   Dr. Umair Hafeez   gujranwala     entspecialist   \n",
       "1  Dr. Haris Shakeel    rajan-pur  generalphysician   \n",
       "2    Dr. Iqra Rehman  mirpur-khas  generalphysician   \n",
       "3     Dr. Erum Memon    hyderabad      gynecologist   \n",
       "4    Dr. Aisha Ahmad       lahore     dermatologist   \n",
       "\n",
       "                                Doctor Qualification  Experience(Years)  \\\n",
       "0                 mbbs,fcps{otorhinolaryngologicent}                6.0   \n",
       "1                                               mbbs                1.0   \n",
       "2              mbbs,rmp,cfp{usa},certifiedincovid19+                6.0   \n",
       "3                    mbbs,fcps{gynae&amp;obstetrics}               11.0   \n",
       "4  mbbs,fcps{dermatology},certified{aestheticmedi...               12.0   \n",
       "\n",
       "   Total_Reviews  Patient Satisfaction Rate(%age)  Avg Time to Patients(mins)  \\\n",
       "0             11                              100                          19   \n",
       "1              0                               94                          14   \n",
       "2              9                              100                          10   \n",
       "3             71                               96                          18   \n",
       "4            199                              100                          16   \n",
       "\n",
       "   Wait Time(mins)                             Hospital Address  \\\n",
       "0                6  Central Hospital, Jinnah Colony, Gujranwala   \n",
       "1               11                         No Address Available   \n",
       "2                0   Rehman Clinic, tandoadam naka, Mirpur Khas   \n",
       "3               10       Mehmood Hospital, Qasimabad, Hyderabad   \n",
       "4                2             Skinnovation, Johar Town, Lahore   \n",
       "\n",
       "                                        Doctors Link  Fee Category  Title  \n",
       "0  https://www.marham.pk/doctors/gujranwala/ent-s...             2    0.0  \n",
       "1                                  No Link Available             0    0.0  \n",
       "2  https://www.marham.pk/doctors/mirpur-khas/gene...             1    0.0  \n",
       "3  https://www.marham.pk/doctors/hyderabad/gyneco...             0    0.0  \n",
       "4  https://www.marham.pk/doctors/lahore/dermatolo...             1    0.0  "
      ]
     },
     "execution_count": 17,
     "metadata": {},
     "output_type": "execute_result"
    }
   ],
   "source": [
    "df.head()"
   ]
  },
  {
   "cell_type": "code",
   "execution_count": 18,
   "metadata": {
    "execution": {
     "iopub.execute_input": "2024-05-10T21:47:37.873640Z",
     "iopub.status.busy": "2024-05-10T21:47:37.873190Z",
     "iopub.status.idle": "2024-05-10T21:47:37.889800Z",
     "shell.execute_reply": "2024-05-10T21:47:37.888602Z",
     "shell.execute_reply.started": "2024-05-10T21:47:37.873609Z"
    },
    "trusted": true
   },
   "outputs": [],
   "source": [
    "X_train,X_test,y_train,y_test=train_test_split(df.drop(columns=['Fee Category','Hospital Address','Doctor Name','Doctors Link']),df['Fee Category'],random_state=42,test_size=0.2,stratify=df['Fee Category'])"
   ]
  },
  {
   "cell_type": "markdown",
   "metadata": {},
   "source": [
    "# Train"
   ]
  },
  {
   "cell_type": "code",
   "execution_count": 19,
   "metadata": {
    "execution": {
     "iopub.execute_input": "2024-05-10T21:47:38.302907Z",
     "iopub.status.busy": "2024-05-10T21:47:38.302469Z",
     "iopub.status.idle": "2024-05-10T21:47:38.309857Z",
     "shell.execute_reply": "2024-05-10T21:47:38.308757Z",
     "shell.execute_reply.started": "2024-05-10T21:47:38.302876Z"
    },
    "trusted": true
   },
   "outputs": [],
   "source": [
    "def log_transform(X, columns_to_transform):\n",
    "    X_transformed = X.copy()\n",
    "    for col in columns_to_transform:\n",
    "        X_transformed[col] = np.log1p(X_transformed[col])\n",
    "    return X_transformed"
   ]
  },
  {
   "cell_type": "code",
   "execution_count": 20,
   "metadata": {
    "execution": {
     "iopub.execute_input": "2024-05-10T21:47:38.573949Z",
     "iopub.status.busy": "2024-05-10T21:47:38.573175Z",
     "iopub.status.idle": "2024-05-10T21:47:38.580247Z",
     "shell.execute_reply": "2024-05-10T21:47:38.578743Z",
     "shell.execute_reply.started": "2024-05-10T21:47:38.573914Z"
    },
    "trusted": true
   },
   "outputs": [],
   "source": [
    "log_transformer=FunctionTransformer(func=log_transform, kw_args={'columns_to_transform': ['Experience(Years)', 'Total_Reviews']})"
   ]
  },
  {
   "cell_type": "code",
   "execution_count": 21,
   "metadata": {
    "execution": {
     "iopub.execute_input": "2024-05-10T21:47:38.830088Z",
     "iopub.status.busy": "2024-05-10T21:47:38.829625Z",
     "iopub.status.idle": "2024-05-10T21:47:38.840256Z",
     "shell.execute_reply": "2024-05-10T21:47:38.838494Z",
     "shell.execute_reply.started": "2024-05-10T21:47:38.830056Z"
    },
    "trusted": true
   },
   "outputs": [],
   "source": [
    "X_train=log_transformer.fit_transform(X_train)"
   ]
  },
  {
   "cell_type": "code",
   "execution_count": 22,
   "metadata": {
    "execution": {
     "iopub.execute_input": "2024-05-10T21:47:39.098599Z",
     "iopub.status.busy": "2024-05-10T21:47:39.098208Z",
     "iopub.status.idle": "2024-05-10T21:47:39.113078Z",
     "shell.execute_reply": "2024-05-10T21:47:39.111771Z",
     "shell.execute_reply.started": "2024-05-10T21:47:39.098571Z"
    },
    "trusted": true
   },
   "outputs": [
    {
     "data": {
      "text/plain": [
       "(1908, 113)"
      ]
     },
     "execution_count": 22,
     "metadata": {},
     "output_type": "execute_result"
    }
   ],
   "source": [
    "enc = pd.get_dummies(X_train['City'], prefix='City')\n",
    "X_train=pd.concat([X_train.drop(columns='City'),enc],axis=1)\n",
    "enc.shape"
   ]
  },
  {
   "cell_type": "code",
   "execution_count": 23,
   "metadata": {
    "execution": {
     "iopub.execute_input": "2024-05-10T21:47:39.524336Z",
     "iopub.status.busy": "2024-05-10T21:47:39.523875Z",
     "iopub.status.idle": "2024-05-10T21:47:39.637503Z",
     "shell.execute_reply": "2024-05-10T21:47:39.635434Z",
     "shell.execute_reply.started": "2024-05-10T21:47:39.524305Z"
    },
    "trusted": true
   },
   "outputs": [
    {
     "data": {
      "text/plain": [
       "(1908, 60)"
      ]
     },
     "execution_count": 23,
     "metadata": {},
     "output_type": "execute_result"
    }
   ],
   "source": [
    "enc=X_train.Specialization.str.get_dummies(sep=',')\n",
    "X_train=pd.concat([X_train.drop(columns='Specialization'),enc],axis=1)\n",
    "enc.shape"
   ]
  },
  {
   "cell_type": "code",
   "execution_count": 24,
   "metadata": {
    "execution": {
     "iopub.execute_input": "2024-05-10T21:47:40.088912Z",
     "iopub.status.busy": "2024-05-10T21:47:40.088437Z",
     "iopub.status.idle": "2024-05-10T21:47:40.124060Z",
     "shell.execute_reply": "2024-05-10T21:47:40.122877Z",
     "shell.execute_reply.started": "2024-05-10T21:47:40.088880Z"
    },
    "trusted": true
   },
   "outputs": [
    {
     "data": {
      "text/html": [
       "<div>\n",
       "<style scoped>\n",
       "    .dataframe tbody tr th:only-of-type {\n",
       "        vertical-align: middle;\n",
       "    }\n",
       "\n",
       "    .dataframe tbody tr th {\n",
       "        vertical-align: top;\n",
       "    }\n",
       "\n",
       "    .dataframe thead th {\n",
       "        text-align: right;\n",
       "    }\n",
       "</style>\n",
       "<table border=\"1\" class=\"dataframe\">\n",
       "  <thead>\n",
       "    <tr style=\"text-align: right;\">\n",
       "      <th></th>\n",
       "      <th>Doctor Qualification</th>\n",
       "      <th>Experience(Years)</th>\n",
       "      <th>Total_Reviews</th>\n",
       "      <th>Patient Satisfaction Rate(%age)</th>\n",
       "      <th>Avg Time to Patients(mins)</th>\n",
       "      <th>Wait Time(mins)</th>\n",
       "      <th>Title</th>\n",
       "      <th>City_abbottabad</th>\n",
       "      <th>City_alipur</th>\n",
       "      <th>City_attock</th>\n",
       "      <th>...</th>\n",
       "      <th>psychiatrist</th>\n",
       "      <th>psychologist</th>\n",
       "      <th>pulmonologist/lungspecialist</th>\n",
       "      <th>radiologist</th>\n",
       "      <th>rehabilitationmedicine</th>\n",
       "      <th>rheumatologist</th>\n",
       "      <th>sexologist</th>\n",
       "      <th>spinalsurgeon</th>\n",
       "      <th>spinespecialist</th>\n",
       "      <th>urologist</th>\n",
       "    </tr>\n",
       "  </thead>\n",
       "  <tbody>\n",
       "    <tr>\n",
       "      <th>596</th>\n",
       "      <td>mbbs,mcps,{{ophthalmology},fcps{ophthalmology}</td>\n",
       "      <td>3.367296</td>\n",
       "      <td>1.609438</td>\n",
       "      <td>100</td>\n",
       "      <td>14</td>\n",
       "      <td>11</td>\n",
       "      <td>0.0</td>\n",
       "      <td>0</td>\n",
       "      <td>0</td>\n",
       "      <td>0</td>\n",
       "      <td>...</td>\n",
       "      <td>0</td>\n",
       "      <td>0</td>\n",
       "      <td>0</td>\n",
       "      <td>0</td>\n",
       "      <td>0</td>\n",
       "      <td>0</td>\n",
       "      <td>0</td>\n",
       "      <td>0</td>\n",
       "      <td>0</td>\n",
       "      <td>0</td>\n",
       "    </tr>\n",
       "    <tr>\n",
       "      <th>2097</th>\n",
       "      <td>mbbs,mrcp,mrcps,dcn</td>\n",
       "      <td>2.397895</td>\n",
       "      <td>0.000000</td>\n",
       "      <td>94</td>\n",
       "      <td>14</td>\n",
       "      <td>11</td>\n",
       "      <td>0.0</td>\n",
       "      <td>0</td>\n",
       "      <td>0</td>\n",
       "      <td>0</td>\n",
       "      <td>...</td>\n",
       "      <td>0</td>\n",
       "      <td>0</td>\n",
       "      <td>0</td>\n",
       "      <td>0</td>\n",
       "      <td>0</td>\n",
       "      <td>0</td>\n",
       "      <td>0</td>\n",
       "      <td>0</td>\n",
       "      <td>0</td>\n",
       "      <td>0</td>\n",
       "    </tr>\n",
       "    <tr>\n",
       "      <th>334</th>\n",
       "      <td>mbbs</td>\n",
       "      <td>1.609438</td>\n",
       "      <td>1.098612</td>\n",
       "      <td>100</td>\n",
       "      <td>14</td>\n",
       "      <td>11</td>\n",
       "      <td>0.0</td>\n",
       "      <td>0</td>\n",
       "      <td>0</td>\n",
       "      <td>0</td>\n",
       "      <td>...</td>\n",
       "      <td>0</td>\n",
       "      <td>0</td>\n",
       "      <td>0</td>\n",
       "      <td>0</td>\n",
       "      <td>0</td>\n",
       "      <td>0</td>\n",
       "      <td>0</td>\n",
       "      <td>0</td>\n",
       "      <td>0</td>\n",
       "      <td>0</td>\n",
       "    </tr>\n",
       "    <tr>\n",
       "      <th>727</th>\n",
       "      <td>mbbs,fcps</td>\n",
       "      <td>2.197225</td>\n",
       "      <td>0.000000</td>\n",
       "      <td>94</td>\n",
       "      <td>14</td>\n",
       "      <td>11</td>\n",
       "      <td>0.0</td>\n",
       "      <td>0</td>\n",
       "      <td>0</td>\n",
       "      <td>0</td>\n",
       "      <td>...</td>\n",
       "      <td>0</td>\n",
       "      <td>0</td>\n",
       "      <td>0</td>\n",
       "      <td>0</td>\n",
       "      <td>0</td>\n",
       "      <td>0</td>\n",
       "      <td>0</td>\n",
       "      <td>0</td>\n",
       "      <td>0</td>\n",
       "      <td>0</td>\n",
       "    </tr>\n",
       "    <tr>\n",
       "      <th>1040</th>\n",
       "      <td>mbbs,mcps{obstetrics&amp;amp;gynecology}</td>\n",
       "      <td>2.079442</td>\n",
       "      <td>0.000000</td>\n",
       "      <td>94</td>\n",
       "      <td>14</td>\n",
       "      <td>11</td>\n",
       "      <td>0.0</td>\n",
       "      <td>0</td>\n",
       "      <td>0</td>\n",
       "      <td>0</td>\n",
       "      <td>...</td>\n",
       "      <td>0</td>\n",
       "      <td>0</td>\n",
       "      <td>0</td>\n",
       "      <td>0</td>\n",
       "      <td>0</td>\n",
       "      <td>0</td>\n",
       "      <td>0</td>\n",
       "      <td>0</td>\n",
       "      <td>0</td>\n",
       "      <td>0</td>\n",
       "    </tr>\n",
       "    <tr>\n",
       "      <th>...</th>\n",
       "      <td>...</td>\n",
       "      <td>...</td>\n",
       "      <td>...</td>\n",
       "      <td>...</td>\n",
       "      <td>...</td>\n",
       "      <td>...</td>\n",
       "      <td>...</td>\n",
       "      <td>...</td>\n",
       "      <td>...</td>\n",
       "      <td>...</td>\n",
       "      <td>...</td>\n",
       "      <td>...</td>\n",
       "      <td>...</td>\n",
       "      <td>...</td>\n",
       "      <td>...</td>\n",
       "      <td>...</td>\n",
       "      <td>...</td>\n",
       "      <td>...</td>\n",
       "      <td>...</td>\n",
       "      <td>...</td>\n",
       "      <td>...</td>\n",
       "    </tr>\n",
       "    <tr>\n",
       "      <th>78</th>\n",
       "      <td>mbbs,fcps{urology}</td>\n",
       "      <td>2.397895</td>\n",
       "      <td>5.030438</td>\n",
       "      <td>99</td>\n",
       "      <td>14</td>\n",
       "      <td>9</td>\n",
       "      <td>0.0</td>\n",
       "      <td>0</td>\n",
       "      <td>0</td>\n",
       "      <td>0</td>\n",
       "      <td>...</td>\n",
       "      <td>0</td>\n",
       "      <td>0</td>\n",
       "      <td>0</td>\n",
       "      <td>0</td>\n",
       "      <td>0</td>\n",
       "      <td>0</td>\n",
       "      <td>0</td>\n",
       "      <td>0</td>\n",
       "      <td>0</td>\n",
       "      <td>1</td>\n",
       "    </tr>\n",
       "    <tr>\n",
       "      <th>478</th>\n",
       "      <td>mbbs,fcps{paeds},mrcp{ireland},facp{usa}</td>\n",
       "      <td>2.564949</td>\n",
       "      <td>4.770685</td>\n",
       "      <td>99</td>\n",
       "      <td>17</td>\n",
       "      <td>9</td>\n",
       "      <td>1.0</td>\n",
       "      <td>0</td>\n",
       "      <td>0</td>\n",
       "      <td>0</td>\n",
       "      <td>...</td>\n",
       "      <td>0</td>\n",
       "      <td>0</td>\n",
       "      <td>0</td>\n",
       "      <td>0</td>\n",
       "      <td>0</td>\n",
       "      <td>0</td>\n",
       "      <td>0</td>\n",
       "      <td>0</td>\n",
       "      <td>0</td>\n",
       "      <td>0</td>\n",
       "    </tr>\n",
       "    <tr>\n",
       "      <th>271</th>\n",
       "      <td>mbbs,fcps{gastroenterology},mrcp1,fcps1{medicine}</td>\n",
       "      <td>2.708050</td>\n",
       "      <td>5.303305</td>\n",
       "      <td>98</td>\n",
       "      <td>16</td>\n",
       "      <td>11</td>\n",
       "      <td>0.0</td>\n",
       "      <td>0</td>\n",
       "      <td>0</td>\n",
       "      <td>0</td>\n",
       "      <td>...</td>\n",
       "      <td>0</td>\n",
       "      <td>0</td>\n",
       "      <td>0</td>\n",
       "      <td>0</td>\n",
       "      <td>0</td>\n",
       "      <td>0</td>\n",
       "      <td>0</td>\n",
       "      <td>0</td>\n",
       "      <td>0</td>\n",
       "      <td>0</td>\n",
       "    </tr>\n",
       "    <tr>\n",
       "      <th>967</th>\n",
       "      <td>mbbs,fcps{obstetrics&amp;amp;gynecology}</td>\n",
       "      <td>2.079442</td>\n",
       "      <td>0.000000</td>\n",
       "      <td>94</td>\n",
       "      <td>14</td>\n",
       "      <td>11</td>\n",
       "      <td>0.0</td>\n",
       "      <td>0</td>\n",
       "      <td>0</td>\n",
       "      <td>0</td>\n",
       "      <td>...</td>\n",
       "      <td>0</td>\n",
       "      <td>0</td>\n",
       "      <td>0</td>\n",
       "      <td>0</td>\n",
       "      <td>0</td>\n",
       "      <td>0</td>\n",
       "      <td>0</td>\n",
       "      <td>0</td>\n",
       "      <td>0</td>\n",
       "      <td>0</td>\n",
       "    </tr>\n",
       "    <tr>\n",
       "      <th>1978</th>\n",
       "      <td>mbbs,fcps{obstetrics&amp;amp;gynecology},diplomain...</td>\n",
       "      <td>2.639057</td>\n",
       "      <td>4.127134</td>\n",
       "      <td>100</td>\n",
       "      <td>15</td>\n",
       "      <td>19</td>\n",
       "      <td>0.0</td>\n",
       "      <td>0</td>\n",
       "      <td>0</td>\n",
       "      <td>0</td>\n",
       "      <td>...</td>\n",
       "      <td>0</td>\n",
       "      <td>0</td>\n",
       "      <td>0</td>\n",
       "      <td>0</td>\n",
       "      <td>0</td>\n",
       "      <td>0</td>\n",
       "      <td>0</td>\n",
       "      <td>0</td>\n",
       "      <td>0</td>\n",
       "      <td>0</td>\n",
       "    </tr>\n",
       "  </tbody>\n",
       "</table>\n",
       "<p>1908 rows × 180 columns</p>\n",
       "</div>"
      ],
      "text/plain": [
       "                                   Doctor Qualification  Experience(Years)  \\\n",
       "596      mbbs,mcps,{{ophthalmology},fcps{ophthalmology}           3.367296   \n",
       "2097                                mbbs,mrcp,mrcps,dcn           2.397895   \n",
       "334                                                mbbs           1.609438   \n",
       "727                                           mbbs,fcps           2.197225   \n",
       "1040               mbbs,mcps{obstetrics&amp;gynecology}           2.079442   \n",
       "...                                                 ...                ...   \n",
       "78                                   mbbs,fcps{urology}           2.397895   \n",
       "478            mbbs,fcps{paeds},mrcp{ireland},facp{usa}           2.564949   \n",
       "271   mbbs,fcps{gastroenterology},mrcp1,fcps1{medicine}           2.708050   \n",
       "967                mbbs,fcps{obstetrics&amp;gynecology}           2.079442   \n",
       "1978  mbbs,fcps{obstetrics&amp;gynecology},diplomain...           2.639057   \n",
       "\n",
       "      Total_Reviews  Patient Satisfaction Rate(%age)  \\\n",
       "596        1.609438                              100   \n",
       "2097       0.000000                               94   \n",
       "334        1.098612                              100   \n",
       "727        0.000000                               94   \n",
       "1040       0.000000                               94   \n",
       "...             ...                              ...   \n",
       "78         5.030438                               99   \n",
       "478        4.770685                               99   \n",
       "271        5.303305                               98   \n",
       "967        0.000000                               94   \n",
       "1978       4.127134                              100   \n",
       "\n",
       "      Avg Time to Patients(mins)  Wait Time(mins)  Title  City_abbottabad  \\\n",
       "596                           14               11    0.0                0   \n",
       "2097                          14               11    0.0                0   \n",
       "334                           14               11    0.0                0   \n",
       "727                           14               11    0.0                0   \n",
       "1040                          14               11    0.0                0   \n",
       "...                          ...              ...    ...              ...   \n",
       "78                            14                9    0.0                0   \n",
       "478                           17                9    1.0                0   \n",
       "271                           16               11    0.0                0   \n",
       "967                           14               11    0.0                0   \n",
       "1978                          15               19    0.0                0   \n",
       "\n",
       "      City_alipur  City_attock  ...  psychiatrist  psychologist  \\\n",
       "596             0            0  ...             0             0   \n",
       "2097            0            0  ...             0             0   \n",
       "334             0            0  ...             0             0   \n",
       "727             0            0  ...             0             0   \n",
       "1040            0            0  ...             0             0   \n",
       "...           ...          ...  ...           ...           ...   \n",
       "78              0            0  ...             0             0   \n",
       "478             0            0  ...             0             0   \n",
       "271             0            0  ...             0             0   \n",
       "967             0            0  ...             0             0   \n",
       "1978            0            0  ...             0             0   \n",
       "\n",
       "      pulmonologist/lungspecialist  radiologist  rehabilitationmedicine  \\\n",
       "596                              0            0                       0   \n",
       "2097                             0            0                       0   \n",
       "334                              0            0                       0   \n",
       "727                              0            0                       0   \n",
       "1040                             0            0                       0   \n",
       "...                            ...          ...                     ...   \n",
       "78                               0            0                       0   \n",
       "478                              0            0                       0   \n",
       "271                              0            0                       0   \n",
       "967                              0            0                       0   \n",
       "1978                             0            0                       0   \n",
       "\n",
       "      rheumatologist  sexologist  spinalsurgeon  spinespecialist  urologist  \n",
       "596                0           0              0                0          0  \n",
       "2097               0           0              0                0          0  \n",
       "334                0           0              0                0          0  \n",
       "727                0           0              0                0          0  \n",
       "1040               0           0              0                0          0  \n",
       "...              ...         ...            ...              ...        ...  \n",
       "78                 0           0              0                0          1  \n",
       "478                0           0              0                0          0  \n",
       "271                0           0              0                0          0  \n",
       "967                0           0              0                0          0  \n",
       "1978               0           0              0                0          0  \n",
       "\n",
       "[1908 rows x 180 columns]"
      ]
     },
     "execution_count": 24,
     "metadata": {},
     "output_type": "execute_result"
    }
   ],
   "source": [
    "X_train"
   ]
  },
  {
   "cell_type": "code",
   "execution_count": 25,
   "metadata": {
    "execution": {
     "iopub.execute_input": "2024-05-10T21:47:40.591441Z",
     "iopub.status.busy": "2024-05-10T21:47:40.591038Z",
     "iopub.status.idle": "2024-05-10T21:47:41.824222Z",
     "shell.execute_reply": "2024-05-10T21:47:41.822728Z",
     "shell.execute_reply.started": "2024-05-10T21:47:40.591411Z"
    },
    "trusted": true
   },
   "outputs": [
    {
     "data": {
      "text/plain": [
       "(1908, 865)"
      ]
     },
     "execution_count": 25,
     "metadata": {},
     "output_type": "execute_result"
    }
   ],
   "source": [
    "enc=X_train['Doctor Qualification'].str.get_dummies(sep=',')\n",
    "X_train=pd.concat([X_train.drop(columns=['Doctor Qualification']),enc],axis=1)\n",
    "enc.shape"
   ]
  },
  {
   "cell_type": "code",
   "execution_count": 26,
   "metadata": {
    "execution": {
     "iopub.execute_input": "2024-05-10T21:47:41.827356Z",
     "iopub.status.busy": "2024-05-10T21:47:41.827009Z",
     "iopub.status.idle": "2024-05-10T21:47:41.864384Z",
     "shell.execute_reply": "2024-05-10T21:47:41.862976Z",
     "shell.execute_reply.started": "2024-05-10T21:47:41.827328Z"
    },
    "trusted": true
   },
   "outputs": [
    {
     "data": {
      "text/html": [
       "<div>\n",
       "<style scoped>\n",
       "    .dataframe tbody tr th:only-of-type {\n",
       "        vertical-align: middle;\n",
       "    }\n",
       "\n",
       "    .dataframe tbody tr th {\n",
       "        vertical-align: top;\n",
       "    }\n",
       "\n",
       "    .dataframe thead th {\n",
       "        text-align: right;\n",
       "    }\n",
       "</style>\n",
       "<table border=\"1\" class=\"dataframe\">\n",
       "  <thead>\n",
       "    <tr style=\"text-align: right;\">\n",
       "      <th></th>\n",
       "      <th>Experience(Years)</th>\n",
       "      <th>Total_Reviews</th>\n",
       "      <th>Patient Satisfaction Rate(%age)</th>\n",
       "      <th>Avg Time to Patients(mins)</th>\n",
       "      <th>Wait Time(mins)</th>\n",
       "      <th>Title</th>\n",
       "      <th>City_abbottabad</th>\n",
       "      <th>City_alipur</th>\n",
       "      <th>City_attock</th>\n",
       "      <th>City_baden</th>\n",
       "      <th>...</th>\n",
       "      <th>{dermatology}</th>\n",
       "      <th>{fellowshiptrainingincutaneous&amp;amp;lasersurgery{thailand}</th>\n",
       "      <th>{gynecology}</th>\n",
       "      <th>{karachi}mcps</th>\n",
       "      <th>{london}</th>\n",
       "      <th>{neurosurgery}</th>\n",
       "      <th>{neurosurgery}i.t.f{unitedkingdom}</th>\n",
       "      <th>{orthopedicsurgery</th>\n",
       "      <th>{{ophthalmology}</th>\n",
       "      <th>fcps{ophthalmology}</th>\n",
       "    </tr>\n",
       "  </thead>\n",
       "  <tbody>\n",
       "    <tr>\n",
       "      <th>596</th>\n",
       "      <td>3.367296</td>\n",
       "      <td>1.609438</td>\n",
       "      <td>100</td>\n",
       "      <td>14</td>\n",
       "      <td>11</td>\n",
       "      <td>0.0</td>\n",
       "      <td>0</td>\n",
       "      <td>0</td>\n",
       "      <td>0</td>\n",
       "      <td>0</td>\n",
       "      <td>...</td>\n",
       "      <td>0</td>\n",
       "      <td>0</td>\n",
       "      <td>0</td>\n",
       "      <td>0</td>\n",
       "      <td>0</td>\n",
       "      <td>0</td>\n",
       "      <td>0</td>\n",
       "      <td>0</td>\n",
       "      <td>1</td>\n",
       "      <td>0</td>\n",
       "    </tr>\n",
       "    <tr>\n",
       "      <th>2097</th>\n",
       "      <td>2.397895</td>\n",
       "      <td>0.000000</td>\n",
       "      <td>94</td>\n",
       "      <td>14</td>\n",
       "      <td>11</td>\n",
       "      <td>0.0</td>\n",
       "      <td>0</td>\n",
       "      <td>0</td>\n",
       "      <td>0</td>\n",
       "      <td>0</td>\n",
       "      <td>...</td>\n",
       "      <td>0</td>\n",
       "      <td>0</td>\n",
       "      <td>0</td>\n",
       "      <td>0</td>\n",
       "      <td>0</td>\n",
       "      <td>0</td>\n",
       "      <td>0</td>\n",
       "      <td>0</td>\n",
       "      <td>0</td>\n",
       "      <td>0</td>\n",
       "    </tr>\n",
       "    <tr>\n",
       "      <th>334</th>\n",
       "      <td>1.609438</td>\n",
       "      <td>1.098612</td>\n",
       "      <td>100</td>\n",
       "      <td>14</td>\n",
       "      <td>11</td>\n",
       "      <td>0.0</td>\n",
       "      <td>0</td>\n",
       "      <td>0</td>\n",
       "      <td>0</td>\n",
       "      <td>0</td>\n",
       "      <td>...</td>\n",
       "      <td>0</td>\n",
       "      <td>0</td>\n",
       "      <td>0</td>\n",
       "      <td>0</td>\n",
       "      <td>0</td>\n",
       "      <td>0</td>\n",
       "      <td>0</td>\n",
       "      <td>0</td>\n",
       "      <td>0</td>\n",
       "      <td>0</td>\n",
       "    </tr>\n",
       "    <tr>\n",
       "      <th>727</th>\n",
       "      <td>2.197225</td>\n",
       "      <td>0.000000</td>\n",
       "      <td>94</td>\n",
       "      <td>14</td>\n",
       "      <td>11</td>\n",
       "      <td>0.0</td>\n",
       "      <td>0</td>\n",
       "      <td>0</td>\n",
       "      <td>0</td>\n",
       "      <td>0</td>\n",
       "      <td>...</td>\n",
       "      <td>0</td>\n",
       "      <td>0</td>\n",
       "      <td>0</td>\n",
       "      <td>0</td>\n",
       "      <td>0</td>\n",
       "      <td>0</td>\n",
       "      <td>0</td>\n",
       "      <td>0</td>\n",
       "      <td>0</td>\n",
       "      <td>0</td>\n",
       "    </tr>\n",
       "    <tr>\n",
       "      <th>1040</th>\n",
       "      <td>2.079442</td>\n",
       "      <td>0.000000</td>\n",
       "      <td>94</td>\n",
       "      <td>14</td>\n",
       "      <td>11</td>\n",
       "      <td>0.0</td>\n",
       "      <td>0</td>\n",
       "      <td>0</td>\n",
       "      <td>0</td>\n",
       "      <td>0</td>\n",
       "      <td>...</td>\n",
       "      <td>0</td>\n",
       "      <td>0</td>\n",
       "      <td>0</td>\n",
       "      <td>0</td>\n",
       "      <td>0</td>\n",
       "      <td>0</td>\n",
       "      <td>0</td>\n",
       "      <td>0</td>\n",
       "      <td>0</td>\n",
       "      <td>0</td>\n",
       "    </tr>\n",
       "    <tr>\n",
       "      <th>...</th>\n",
       "      <td>...</td>\n",
       "      <td>...</td>\n",
       "      <td>...</td>\n",
       "      <td>...</td>\n",
       "      <td>...</td>\n",
       "      <td>...</td>\n",
       "      <td>...</td>\n",
       "      <td>...</td>\n",
       "      <td>...</td>\n",
       "      <td>...</td>\n",
       "      <td>...</td>\n",
       "      <td>...</td>\n",
       "      <td>...</td>\n",
       "      <td>...</td>\n",
       "      <td>...</td>\n",
       "      <td>...</td>\n",
       "      <td>...</td>\n",
       "      <td>...</td>\n",
       "      <td>...</td>\n",
       "      <td>...</td>\n",
       "      <td>...</td>\n",
       "    </tr>\n",
       "    <tr>\n",
       "      <th>78</th>\n",
       "      <td>2.397895</td>\n",
       "      <td>5.030438</td>\n",
       "      <td>99</td>\n",
       "      <td>14</td>\n",
       "      <td>9</td>\n",
       "      <td>0.0</td>\n",
       "      <td>0</td>\n",
       "      <td>0</td>\n",
       "      <td>0</td>\n",
       "      <td>0</td>\n",
       "      <td>...</td>\n",
       "      <td>0</td>\n",
       "      <td>0</td>\n",
       "      <td>0</td>\n",
       "      <td>0</td>\n",
       "      <td>0</td>\n",
       "      <td>0</td>\n",
       "      <td>0</td>\n",
       "      <td>0</td>\n",
       "      <td>0</td>\n",
       "      <td>0</td>\n",
       "    </tr>\n",
       "    <tr>\n",
       "      <th>478</th>\n",
       "      <td>2.564949</td>\n",
       "      <td>4.770685</td>\n",
       "      <td>99</td>\n",
       "      <td>17</td>\n",
       "      <td>9</td>\n",
       "      <td>1.0</td>\n",
       "      <td>0</td>\n",
       "      <td>0</td>\n",
       "      <td>0</td>\n",
       "      <td>0</td>\n",
       "      <td>...</td>\n",
       "      <td>0</td>\n",
       "      <td>0</td>\n",
       "      <td>0</td>\n",
       "      <td>0</td>\n",
       "      <td>0</td>\n",
       "      <td>0</td>\n",
       "      <td>0</td>\n",
       "      <td>0</td>\n",
       "      <td>0</td>\n",
       "      <td>0</td>\n",
       "    </tr>\n",
       "    <tr>\n",
       "      <th>271</th>\n",
       "      <td>2.708050</td>\n",
       "      <td>5.303305</td>\n",
       "      <td>98</td>\n",
       "      <td>16</td>\n",
       "      <td>11</td>\n",
       "      <td>0.0</td>\n",
       "      <td>0</td>\n",
       "      <td>0</td>\n",
       "      <td>0</td>\n",
       "      <td>0</td>\n",
       "      <td>...</td>\n",
       "      <td>0</td>\n",
       "      <td>0</td>\n",
       "      <td>0</td>\n",
       "      <td>0</td>\n",
       "      <td>0</td>\n",
       "      <td>0</td>\n",
       "      <td>0</td>\n",
       "      <td>0</td>\n",
       "      <td>0</td>\n",
       "      <td>0</td>\n",
       "    </tr>\n",
       "    <tr>\n",
       "      <th>967</th>\n",
       "      <td>2.079442</td>\n",
       "      <td>0.000000</td>\n",
       "      <td>94</td>\n",
       "      <td>14</td>\n",
       "      <td>11</td>\n",
       "      <td>0.0</td>\n",
       "      <td>0</td>\n",
       "      <td>0</td>\n",
       "      <td>0</td>\n",
       "      <td>0</td>\n",
       "      <td>...</td>\n",
       "      <td>0</td>\n",
       "      <td>0</td>\n",
       "      <td>0</td>\n",
       "      <td>0</td>\n",
       "      <td>0</td>\n",
       "      <td>0</td>\n",
       "      <td>0</td>\n",
       "      <td>0</td>\n",
       "      <td>0</td>\n",
       "      <td>0</td>\n",
       "    </tr>\n",
       "    <tr>\n",
       "      <th>1978</th>\n",
       "      <td>2.639057</td>\n",
       "      <td>4.127134</td>\n",
       "      <td>100</td>\n",
       "      <td>15</td>\n",
       "      <td>19</td>\n",
       "      <td>0.0</td>\n",
       "      <td>0</td>\n",
       "      <td>0</td>\n",
       "      <td>0</td>\n",
       "      <td>0</td>\n",
       "      <td>...</td>\n",
       "      <td>0</td>\n",
       "      <td>0</td>\n",
       "      <td>0</td>\n",
       "      <td>0</td>\n",
       "      <td>0</td>\n",
       "      <td>0</td>\n",
       "      <td>0</td>\n",
       "      <td>0</td>\n",
       "      <td>0</td>\n",
       "      <td>0</td>\n",
       "    </tr>\n",
       "  </tbody>\n",
       "</table>\n",
       "<p>1908 rows × 1044 columns</p>\n",
       "</div>"
      ],
      "text/plain": [
       "      Experience(Years)  Total_Reviews  Patient Satisfaction Rate(%age)  \\\n",
       "596            3.367296       1.609438                              100   \n",
       "2097           2.397895       0.000000                               94   \n",
       "334            1.609438       1.098612                              100   \n",
       "727            2.197225       0.000000                               94   \n",
       "1040           2.079442       0.000000                               94   \n",
       "...                 ...            ...                              ...   \n",
       "78             2.397895       5.030438                               99   \n",
       "478            2.564949       4.770685                               99   \n",
       "271            2.708050       5.303305                               98   \n",
       "967            2.079442       0.000000                               94   \n",
       "1978           2.639057       4.127134                              100   \n",
       "\n",
       "      Avg Time to Patients(mins)  Wait Time(mins)  Title  City_abbottabad  \\\n",
       "596                           14               11    0.0                0   \n",
       "2097                          14               11    0.0                0   \n",
       "334                           14               11    0.0                0   \n",
       "727                           14               11    0.0                0   \n",
       "1040                          14               11    0.0                0   \n",
       "...                          ...              ...    ...              ...   \n",
       "78                            14                9    0.0                0   \n",
       "478                           17                9    1.0                0   \n",
       "271                           16               11    0.0                0   \n",
       "967                           14               11    0.0                0   \n",
       "1978                          15               19    0.0                0   \n",
       "\n",
       "      City_alipur  City_attock  City_baden  ...  {dermatology}  \\\n",
       "596             0            0           0  ...              0   \n",
       "2097            0            0           0  ...              0   \n",
       "334             0            0           0  ...              0   \n",
       "727             0            0           0  ...              0   \n",
       "1040            0            0           0  ...              0   \n",
       "...           ...          ...         ...  ...            ...   \n",
       "78              0            0           0  ...              0   \n",
       "478             0            0           0  ...              0   \n",
       "271             0            0           0  ...              0   \n",
       "967             0            0           0  ...              0   \n",
       "1978            0            0           0  ...              0   \n",
       "\n",
       "      {fellowshiptrainingincutaneous&amp;lasersurgery{thailand}  {gynecology}  \\\n",
       "596                                                   0                     0   \n",
       "2097                                                  0                     0   \n",
       "334                                                   0                     0   \n",
       "727                                                   0                     0   \n",
       "1040                                                  0                     0   \n",
       "...                                                 ...                   ...   \n",
       "78                                                    0                     0   \n",
       "478                                                   0                     0   \n",
       "271                                                   0                     0   \n",
       "967                                                   0                     0   \n",
       "1978                                                  0                     0   \n",
       "\n",
       "      {karachi}mcps  {london}  {neurosurgery}  \\\n",
       "596               0         0               0   \n",
       "2097              0         0               0   \n",
       "334               0         0               0   \n",
       "727               0         0               0   \n",
       "1040              0         0               0   \n",
       "...             ...       ...             ...   \n",
       "78                0         0               0   \n",
       "478               0         0               0   \n",
       "271               0         0               0   \n",
       "967               0         0               0   \n",
       "1978              0         0               0   \n",
       "\n",
       "      {neurosurgery}i.t.f{unitedkingdom}  {orthopedicsurgery  \\\n",
       "596                                    0                   0   \n",
       "2097                                   0                   0   \n",
       "334                                    0                   0   \n",
       "727                                    0                   0   \n",
       "1040                                   0                   0   \n",
       "...                                  ...                 ...   \n",
       "78                                     0                   0   \n",
       "478                                    0                   0   \n",
       "271                                    0                   0   \n",
       "967                                    0                   0   \n",
       "1978                                   0                   0   \n",
       "\n",
       "      {{ophthalmology}   fcps{ophthalmology}  \n",
       "596                  1                     0  \n",
       "2097                 0                     0  \n",
       "334                  0                     0  \n",
       "727                  0                     0  \n",
       "1040                 0                     0  \n",
       "...                ...                   ...  \n",
       "78                   0                     0  \n",
       "478                  0                     0  \n",
       "271                  0                     0  \n",
       "967                  0                     0  \n",
       "1978                 0                     0  \n",
       "\n",
       "[1908 rows x 1044 columns]"
      ]
     },
     "execution_count": 26,
     "metadata": {},
     "output_type": "execute_result"
    }
   ],
   "source": [
    "X_train"
   ]
  },
  {
   "cell_type": "markdown",
   "metadata": {},
   "source": [
    "# Test"
   ]
  },
  {
   "cell_type": "code",
   "execution_count": 27,
   "metadata": {
    "execution": {
     "iopub.execute_input": "2024-05-10T21:47:31.625931Z",
     "iopub.status.busy": "2024-05-10T21:47:31.625449Z",
     "iopub.status.idle": "2024-05-10T21:47:31.636917Z",
     "shell.execute_reply": "2024-05-10T21:47:31.635746Z",
     "shell.execute_reply.started": "2024-05-10T21:47:31.625891Z"
    },
    "trusted": true
   },
   "outputs": [],
   "source": [
    "X_test=log_transformer.transform(X_test)"
   ]
  },
  {
   "cell_type": "code",
   "execution_count": 28,
   "metadata": {
    "execution": {
     "iopub.execute_input": "2024-05-10T21:52:54.974366Z",
     "iopub.status.busy": "2024-05-10T21:52:54.973941Z",
     "iopub.status.idle": "2024-05-10T21:52:55.110022Z",
     "shell.execute_reply": "2024-05-10T21:52:55.108731Z",
     "shell.execute_reply.started": "2024-05-10T21:52:54.974336Z"
    },
    "trusted": true
   },
   "outputs": [
    {
     "data": {
      "text/plain": [
       "(478, 88)"
      ]
     },
     "execution_count": 28,
     "metadata": {},
     "output_type": "execute_result"
    }
   ],
   "source": [
    "enc = pd.get_dummies(X_test['City'], prefix='City')\n",
    "enc1=X_test.Specialization.str.get_dummies(sep=',')\n",
    "enc2=X_test['Doctor Qualification'].str.get_dummies(sep=',')\n",
    "X_test=pd.concat([X_test.drop(columns=['City','Specialization','Doctor Qualification']),enc,enc1,enc2],axis=1)\n",
    "enc.shape"
   ]
  },
  {
   "cell_type": "code",
   "execution_count": 29,
   "metadata": {
    "execution": {
     "iopub.execute_input": "2024-05-10T22:01:11.434953Z",
     "iopub.status.busy": "2024-05-10T22:01:11.434482Z",
     "iopub.status.idle": "2024-05-10T22:01:11.495798Z",
     "shell.execute_reply": "2024-05-10T22:01:11.494875Z",
     "shell.execute_reply.started": "2024-05-10T22:01:11.434921Z"
    },
    "trusted": true
   },
   "outputs": [],
   "source": [
    "test = pd.DataFrame(columns=X_train.columns)"
   ]
  },
  {
   "cell_type": "code",
   "execution_count": 30,
   "metadata": {
    "execution": {
     "iopub.execute_input": "2024-05-10T22:01:12.133691Z",
     "iopub.status.busy": "2024-05-10T22:01:12.133030Z",
     "iopub.status.idle": "2024-05-10T22:01:12.153531Z",
     "shell.execute_reply": "2024-05-10T22:01:12.152433Z",
     "shell.execute_reply.started": "2024-05-10T22:01:12.133643Z"
    },
    "trusted": true
   },
   "outputs": [
    {
     "data": {
      "text/html": [
       "<div>\n",
       "<style scoped>\n",
       "    .dataframe tbody tr th:only-of-type {\n",
       "        vertical-align: middle;\n",
       "    }\n",
       "\n",
       "    .dataframe tbody tr th {\n",
       "        vertical-align: top;\n",
       "    }\n",
       "\n",
       "    .dataframe thead th {\n",
       "        text-align: right;\n",
       "    }\n",
       "</style>\n",
       "<table border=\"1\" class=\"dataframe\">\n",
       "  <thead>\n",
       "    <tr style=\"text-align: right;\">\n",
       "      <th></th>\n",
       "      <th>Experience(Years)</th>\n",
       "      <th>Total_Reviews</th>\n",
       "      <th>Patient Satisfaction Rate(%age)</th>\n",
       "      <th>Avg Time to Patients(mins)</th>\n",
       "      <th>Wait Time(mins)</th>\n",
       "      <th>Title</th>\n",
       "      <th>City_abbottabad</th>\n",
       "      <th>City_alipur</th>\n",
       "      <th>City_attock</th>\n",
       "      <th>City_baden</th>\n",
       "      <th>...</th>\n",
       "      <th>{dermatology}</th>\n",
       "      <th>{fellowshiptrainingincutaneous&amp;amp;lasersurgery{thailand}</th>\n",
       "      <th>{gynecology}</th>\n",
       "      <th>{karachi}mcps</th>\n",
       "      <th>{london}</th>\n",
       "      <th>{neurosurgery}</th>\n",
       "      <th>{neurosurgery}i.t.f{unitedkingdom}</th>\n",
       "      <th>{orthopedicsurgery</th>\n",
       "      <th>{{ophthalmology}</th>\n",
       "      <th>fcps{ophthalmology}</th>\n",
       "    </tr>\n",
       "  </thead>\n",
       "  <tbody>\n",
       "  </tbody>\n",
       "</table>\n",
       "<p>0 rows × 1044 columns</p>\n",
       "</div>"
      ],
      "text/plain": [
       "Empty DataFrame\n",
       "Columns: [Experience(Years), Total_Reviews, Patient Satisfaction Rate(%age), Avg Time to Patients(mins), Wait Time(mins), Title, City_abbottabad, City_alipur, City_attock, City_baden, City_bahawalnagar, City_bahawalpur, City_bannu, City_bhakkar, City_bhalwal, City_buner, City_burewala, City_chakwal, City_chaman, City_charsadda, City_chichawatni, City_chiniot, City_chishtian, City_dargai, City_daska, City_dera-ghazi-khan, City_dera-ismail-khan, City_dijkot, City_dunyapur, City_faisalabad, City_gilgit, City_gojra, City_gujar-khan, City_gujranwala, City_gujrat, City_hafizabad, City_hangu, City_haripur, City_hyderabad, City_islamabad, City_istanbul, City_izmir, City_jacobabad, City_jamshoro, City_jaranwala, City_jauharabad, City_jhang, City_jhelum, City_kabirwala, City_kamoke, City_kandiaro, City_karachi, City_kashmor, City_kasur, City_khairpur, City_khanewal, City_khanpur, City_kharian, City_khushab, City_khuzdar, City_kohat, City_kot-addu, City_kotli, City_lahore, City_lalamusa, City_larkana, City_layyah, City_lodhran, City_malakand, City_mandi-bahauddin, City_mansehra, City_mardan, City_matiari, City_mian-channu, City_mianwali, City_mirpur, City_mirpur-khas, City_multan, City_muridke, City_muzaffar-garh, City_nankana-sahib, City_narowal, City_nawabshah, City_nowshera, City_okara, City_pakpattan, City_pasrur, City_pattoki, City_peshawar, City_quetta, City_rahim-yar-khan, City_rajan-pur, City_rawalakot, City_renala-khurd, City_riyadh, City_sadiqabad, City_sahiwal, City_samundri, City_sargodha, City_shahdadpur, ...]\n",
       "Index: []\n",
       "\n",
       "[0 rows x 1044 columns]"
      ]
     },
     "execution_count": 30,
     "metadata": {},
     "output_type": "execute_result"
    }
   ],
   "source": [
    "test"
   ]
  },
  {
   "cell_type": "code",
   "execution_count": 31,
   "metadata": {
    "execution": {
     "iopub.execute_input": "2024-05-10T22:02:30.509218Z",
     "iopub.status.busy": "2024-05-10T22:02:30.508828Z",
     "iopub.status.idle": "2024-05-10T22:02:31.239892Z",
     "shell.execute_reply": "2024-05-10T22:02:31.238667Z",
     "shell.execute_reply.started": "2024-05-10T22:02:30.509190Z"
    },
    "trusted": true
   },
   "outputs": [],
   "source": [
    "test = pd.DataFrame(columns=X_train.columns)\n",
    "for col in test.columns:\n",
    "        if col in X_test.columns:\n",
    "            test[col] = X_test[col]\n",
    "        else:\n",
    "            test[col] = 0"
   ]
  },
  {
   "cell_type": "code",
   "execution_count": 32,
   "metadata": {
    "execution": {
     "iopub.execute_input": "2024-05-10T22:17:30.377835Z",
     "iopub.status.busy": "2024-05-10T22:17:30.377381Z",
     "iopub.status.idle": "2024-05-10T22:17:39.502075Z",
     "shell.execute_reply": "2024-05-10T22:17:39.500263Z",
     "shell.execute_reply.started": "2024-05-10T22:17:30.377804Z"
    },
    "trusted": true
   },
   "outputs": [
    {
     "name": "stdout",
     "output_type": "stream",
     "text": [
      "Train:  0.9947589098532494\n",
      "Test:  0.6673640167364017\n"
     ]
    },
    {
     "name": "stderr",
     "output_type": "stream",
     "text": [
      "c:\\Users\\lenovo\\AppData\\Local\\Programs\\Python\\Python310\\lib\\site-packages\\sklearn\\linear_model\\_logistic.py:814: ConvergenceWarning: lbfgs failed to converge (status=1):\n",
      "STOP: TOTAL NO. of ITERATIONS REACHED LIMIT.\n",
      "\n",
      "Increase the number of iterations (max_iter) or scale the data as shown in:\n",
      "    https://scikit-learn.org/stable/modules/preprocessing.html\n",
      "Please also refer to the documentation for alternative solver options:\n",
      "    https://scikit-learn.org/stable/modules/linear_model.html#logistic-regression\n",
      "  n_iter_i = _check_optimize_result(\n"
     ]
    },
    {
     "name": "stdout",
     "output_type": "stream",
     "text": [
      "Train:  0.6257861635220126\n",
      "Test:  0.5460251046025104\n",
      "Train:  0.8160377358490566\n",
      "Test:  0.6317991631799164\n",
      "Train:  0.9947589098532494\n",
      "Test:  0.5774058577405857\n",
      "Train:  0.6388888888888888\n",
      "Test:  0.5585774058577406\n"
     ]
    }
   ],
   "source": [
    "from sklearn.linear_model import LogisticRegression\n",
    "from catboost import CatBoostClassifier\n",
    "from sklearn.ensemble import AdaBoostClassifier\n",
    "\n",
    "model=RandomForestClassifier(random_state=42)\n",
    "logistic_reg = LogisticRegression(multi_class='multinomial',solver='lbfgs')\n",
    "svm = SVC(kernel='linear')  # Linear kernel for SVM\n",
    "decision_tree = DecisionTreeClassifier(criterion='entropy', random_state=42)\n",
    "AdaBoostClass = AdaBoostClassifier(random_state=42)\n",
    "CatBoss = CatBoostClassifier(random_state=42)\n",
    "\n",
    "# pipeline = Pipeline(steps=[('preprocessor', preprocessor),\n",
    "#                            ('model', model)])\n",
    "model.fit(X_train, y_train)\n",
    "print(\"Train: \",model.score(X_train, y_train))\n",
    "print(\"Test: \",model.score(test,y_test))\n",
    "logistic_reg.fit(X_train, y_train)\n",
    "print(\"Train: \",logistic_reg.score(X_train, y_train))\n",
    "print(\"Test: \",logistic_reg.score(test,y_test))\n",
    "svm.fit(X_train, y_train)\n",
    "print(\"Train: \",svm.score(X_train, y_train))\n",
    "print(\"Test: \",svm.score(test,y_test))\n",
    "decision_tree.fit(X_train, y_train)\n",
    "print(\"Train: \",decision_tree.score(X_train, y_train))\n",
    "print(\"Test: \",decision_tree.score(test,y_test))\n",
    "AdaBoostClass.fit(X_train, y_train)\n",
    "print(\"Train: \",AdaBoostClass.score(X_train, y_train))\n",
    "print(\"Test: \",AdaBoostClass.score(test,y_test))"
   ]
  },
  {
   "cell_type": "code",
   "execution_count": null,
   "metadata": {},
   "outputs": [],
   "source": []
  }
 ],
 "metadata": {
  "kaggle": {
   "accelerator": "none",
   "dataSources": [
    {
     "datasetId": 4937057,
     "sourceId": 8310895,
     "sourceType": "datasetVersion"
    }
   ],
   "dockerImageVersionId": 30698,
   "isGpuEnabled": false,
   "isInternetEnabled": true,
   "language": "python",
   "sourceType": "notebook"
  },
  "kernelspec": {
   "display_name": "Python 3",
   "language": "python",
   "name": "python3"
  },
  "language_info": {
   "codemirror_mode": {
    "name": "ipython",
    "version": 3
   },
   "file_extension": ".py",
   "mimetype": "text/x-python",
   "name": "python",
   "nbconvert_exporter": "python",
   "pygments_lexer": "ipython3",
   "version": "3.10.6"
  }
 },
 "nbformat": 4,
 "nbformat_minor": 4
}
